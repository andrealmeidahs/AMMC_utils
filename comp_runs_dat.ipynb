{
 "cells": [
  {
   "cell_type": "code",
   "execution_count": null,
   "metadata": {},
   "outputs": [],
   "source": [
    "import os\n",
    "import re\n",
    "from glob import glob\n",
    "from datetime import datetime\n",
    "\n",
    "import pandas as pd\n",
    "import matplotlib.pyplot as plt\n",
    "import seaborn as sns"
   ]
  },
  {
   "cell_type": "code",
   "execution_count": null,
   "metadata": {},
   "outputs": [],
   "source": [
    "# find dat file within a run\n",
    "def find_dat_in_run(run_root):\n",
    "    dats = []\n",
    "    #dats = glob(os.path.join(run_root,\"Outputs/*.dat\"))\n",
    "    for proot, dirs, files in os.walk(run_root):\n",
    "        for f in files:\n",
    "            if f.find('_trunc.dat') > -1:\n",
    "                dats.append(os.path.join(run_root,proot,f))\n",
    "    return dats"
   ]
  },
  {
   "cell_type": "code",
   "execution_count": null,
   "metadata": {},
   "outputs": [],
   "source": [
    "runs_root = \"C:/JSPRuns\"\n",
    "comp_dirs = [\"2025-03-04-154054_AMMC_5019_NewBase\",\n",
    "             \"2025-03-04-155000_AMMC_5100_Base_3x80ocFLTrains\",\n",
    "             \"2025-03-06-114718_AMMC_5101_Base_3x80ocFLTrn_FL_MW_Sidings\",\n",
    "             \"4TrainSweep/4Trains/2024-09-09-161136_AMMC_3403_FL4x80oc_LoadUnloadUp_FM\",\n",
    "             \"2025-03-05-153736_AMMC_5102_Base_3x80ocFLTrn_Quebec_pls2\",\n",
    "            ]\n",
    "\n",
    "dats = [find_dat_in_run(os.path.join(runs_root, d))[0] for d in comp_dirs]\n",
    "dats"
   ]
  },
  {
   "cell_type": "code",
   "execution_count": null,
   "metadata": {},
   "outputs": [],
   "source": [
    "dfs = []\n",
    "for dat_file in dats:\n",
    "    print(dat_file)\n",
    "    df = pd.read_csv(dat_file,delimiter=\"\\t\")\n",
    "    df = df.loc[:,~df.columns.str.match(r\"^Unnamed\")]\n",
    "    df.loc[:,\"run\"] = os.path.splitext(os.path.split(dat_file)[-1])[0]\n",
    "    dfs.append(df)"
   ]
  },
  {
   "cell_type": "code",
   "execution_count": null,
   "metadata": {},
   "outputs": [],
   "source": [
    "df = pd.concat(dfs).reset_index(drop=True)\n",
    "\n",
    "def date_or_nan(x):\n",
    "    try:\n",
    "        return datetime.strptime(x[0],\"%Y-%m-%d-%H%M%S\")\n",
    "    except ValueError:\n",
    "        return pd.NaT\n",
    "        \n",
    "#df[\"run_date\"] = df[\"run\"].str.split(\"_\").apply(date_or_nan)\n",
    "df[\"run_id\"] = df[\"run\"].str.extract(r\"(\\d{4})_\")\n",
    "#df"
   ]
  },
  {
   "cell_type": "markdown",
   "metadata": {},
   "source": [
    "## Total shipped from Fire Lake"
   ]
  },
  {
   "cell_type": "code",
   "execution_count": null,
   "metadata": {},
   "outputs": [],
   "source": [
    "grp_col = \"run_id\"\n",
    "val_col = \"[cvMWUnloadFL].TotalIn([Ore])/1[Mt]\"\n",
    "\n",
    "box_plot = sns.boxplot(data=df, x=grp_col,y=val_col,)\n",
    "lbls = [x.get_text() for x in box_plot.get_xticklabels()]\n",
    "\n",
    "means = df.groupby(grp_col)[val_col].mean()[lbls]\n",
    "vertical_offset = df[val_col].mean() * 0.02 # offset from median for displayvertical_offset = df[val_col].mean() * 0.02 # offset from median for display\n",
    "\n",
    "for xtick in box_plot.get_xticks():\n",
    "    box_plot.text(xtick,means[xtick] + vertical_offset,round(means[xtick],ndigits=1), \n",
    "            horizontalalignment='center',color='k')\n",
    "plt.ylabel(\"Unloaded by FL (Mtpa)\")\n",
    "plt.grid(True)"
   ]
  },
  {
   "cell_type": "markdown",
   "metadata": {},
   "source": [
    "## Total shipped at port"
   ]
  },
  {
   "cell_type": "code",
   "execution_count": null,
   "metadata": {},
   "outputs": [],
   "source": [
    "val_col = \"sum([cvToMarine].TotalIn)/1[Mt]\"\n",
    "\n",
    "box_plot = sns.boxplot(data=df, x=grp_col,y=val_col,)\n",
    "lbls = [x.get_text() for x in box_plot.get_xticklabels()]\n",
    "\n",
    "means = df.groupby(grp_col)[val_col].mean()[lbls]\n",
    "vertical_offset = df[val_col].mean() * 0.02 # offset from median for display\n",
    "\n",
    "for xtick in box_plot.get_xticks():\n",
    "    box_plot.text(xtick,means[xtick] + vertical_offset,round(means[xtick],ndigits=1), \n",
    "            horizontalalignment='center',color='k')\n",
    "plt.ylabel(\"Total Shipped (Mtpa)\")\n",
    "plt.grid(True)"
   ]
  },
  {
   "cell_type": "markdown",
   "metadata": {},
   "source": [
    "## Train cycle time"
   ]
  },
  {
   "cell_type": "code",
   "execution_count": null,
   "metadata": {},
   "outputs": [],
   "source": [
    "def read_log(fn,columns=None):\n",
    "    lno = find_empty_line_no(fn)\n",
    "    print(lno, fn)\n",
    "    start_row = lno+1\n",
    "    if columns is not None:\n",
    "        start_row += 1\n",
    "    df = pd.read_csv(fn,delimiter=\"\\t\",skiprows=start_row,names=columns)\n",
    "    df = df.loc[:,~df.columns.str.match(r\"^Unnamed\")]\n",
    "    return df\n",
    "\n",
    "def get_fl_cycle_logs_in_run(run_root):\n",
    "    logs = []\n",
    "    for proot, dirs, files in os.walk(run_root):\n",
    "        for f in files:\n",
    "            if f.find('CyclesFL.log') > -1:\n",
    "                logs.append(os.path.join(run_root,proot,f))\n",
    "    return logs\n",
    "\n",
    "def cycle_log_from_log(df):\n",
    "    first_State = df.iloc[0].Loc_State\n",
    "    df_cycle = df[df.Loc_State == first_State]\n",
    "    df_cycle.loc[df_cycle.iloc[:-1].index,\"CycleTime\"] = df_cycle.Time.diff()\n",
    "    return df_cycle\n",
    "\n",
    "\n",
    "train_log_cols = [\"Time\", \"Loc_State\", \"Func_State\"]\n",
    "\n",
    "def get_fl_cycle_logs_in_run(run_root,warmup_time=0):\n",
    "    logs = []\n",
    "    for proot, dirs, files in os.walk(run_root):\n",
    "        for f in files:\n",
    "            if re.match(r\".*exLogTrainFL\\d+State\\.log\", f):\n",
    "                tno = re.match(r\".*(\\d+)State\\.log\", f).groups()[0]\n",
    "                log = read_log(os.path.join(proot,f),columns=train_log_cols)\n",
    "                cycle_log = cycle_log_from_log(log)\n",
    "                cycle_log[\"Train\"] = int(tno)\n",
    "                logs.append(cycle_log)\n",
    "    return pd.concat(logs)\n",
    "\n",
    "def find_empty_line_no(f):\n",
    "    lno=0\n",
    "    with open(f,\"r\") as fid:\n",
    "        for line in fid:\n",
    "            if len(line) < 2:\n",
    "                return lno\n",
    "            lno += 1"
   ]
  },
  {
   "cell_type": "code",
   "execution_count": null,
   "metadata": {},
   "outputs": [],
   "source": [
    "#fl_log_files = [get_fl_cycle_logs_in_run(os.path.join(runs_root, x))[0] for x in comp_dirs]\n",
    "fl_logs=[]\n",
    "\n",
    "warmup_time = 24*28\n",
    "\n",
    "for d in comp_dirs:\n",
    "    \n",
    "    dfs = get_fl_cycle_logs_in_run(os.path.join(runs_root, d))\n",
    "    \n",
    "    fl_logs.append(dfs)"
   ]
  },
  {
   "cell_type": "code",
   "execution_count": null,
   "metadata": {},
   "outputs": [],
   "source": [
    "fl_logs"
   ]
  },
  {
   "cell_type": "code",
   "execution_count": null,
   "metadata": {},
   "outputs": [],
   "source": [
    "l=fl_logs[0]"
   ]
  },
  {
   "cell_type": "code",
   "execution_count": null,
   "metadata": {},
   "outputs": [],
   "source": [
    "s = l.iloc[0].Loc_State"
   ]
  },
  {
   "cell_type": "code",
   "execution_count": null,
   "metadata": {},
   "outputs": [],
   "source": [
    "l[l.Loc_State==s].Time.diff().describe()"
   ]
  },
  {
   "cell_type": "code",
   "execution_count": null,
   "metadata": {},
   "outputs": [],
   "source": [
    "len(l[l.Loc_State==s])"
   ]
  },
  {
   "cell_type": "code",
   "execution_count": null,
   "metadata": {},
   "outputs": [],
   "source": []
  }
 ],
 "metadata": {
  "kernelspec": {
   "display_name": "FMGEnv",
   "language": "python",
   "name": "python3"
  },
  "language_info": {
   "codemirror_mode": {
    "name": "ipython",
    "version": 3
   },
   "file_extension": ".py",
   "mimetype": "text/x-python",
   "name": "python",
   "nbconvert_exporter": "python",
   "pygments_lexer": "ipython3",
   "version": "3.9.13"
  }
 },
 "nbformat": 4,
 "nbformat_minor": 2
}
