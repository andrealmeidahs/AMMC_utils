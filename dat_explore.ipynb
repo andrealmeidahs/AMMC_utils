{
 "cells": [
  {
   "cell_type": "code",
   "execution_count": null,
   "metadata": {},
   "outputs": [],
   "source": [
    "import os\n",
    "from glob import glob\n",
    "from datetime import datetime\n",
    "import pandas as pd\n",
    "import matplotlib.pyplot as plt\n",
    "import seaborn as sns\n"
   ]
  },
  {
   "cell_type": "code",
   "execution_count": null,
   "metadata": {},
   "outputs": [],
   "source": [
    "outputs_root = \"C:/JSPRuns/MultiRuns/Outputs\"\n",
    "\n",
    "dat_files = glob(outputs_root + \"/**/*.dat\", recursive=True)\n",
    "dat_files"
   ]
  },
  {
   "cell_type": "code",
   "execution_count": null,
   "metadata": {},
   "outputs": [],
   "source": [
    "dat_file = dat_files[0]"
   ]
  },
  {
   "cell_type": "code",
   "execution_count": null,
   "metadata": {},
   "outputs": [],
   "source": [
    "with open(dat_file) as f:\n",
    "    for line in f:\n",
    "        print(line)"
   ]
  },
  {
   "cell_type": "code",
   "execution_count": null,
   "metadata": {},
   "outputs": [],
   "source": [
    "df = pd.read_csv(dat_file,skipfooter=1,delimiter=\"\\t\")\n",
    "df = df.loc[:,~df.columns.str.match(r\"^Unnamed\")]\n",
    "df"
   ]
  },
  {
   "cell_type": "code",
   "execution_count": null,
   "metadata": {},
   "outputs": [],
   "source": [
    "dfs = []\n",
    "for dat_file in dat_files:\n",
    "    df = pd.read_csv(dat_file,skipfooter=1,delimiter=\"\\t\")\n",
    "    df = df.loc[:,~df.columns.str.match(r\"^Unnamed\")]\n",
    "    df.loc[:,\"run\"] = os.path.splitext(os.path.split(dat_file)[-1])[0]\n",
    "    dfs.append(df)\n"
   ]
  },
  {
   "cell_type": "code",
   "execution_count": null,
   "metadata": {},
   "outputs": [],
   "source": [
    "df = pd.concat(dfs).reset_index(drop=True)\n"
   ]
  },
  {
   "cell_type": "code",
   "execution_count": null,
   "metadata": {},
   "outputs": [],
   "source": [
    "def date_or_nan(x):\n",
    "    try:\n",
    "        return datetime.strptime(x[0],\"%Y-%m-%d-%H%M%S\")\n",
    "    except ValueError:\n",
    "        return pd.NaT\n",
    "        \n",
    "df[\"run_date\"] = df[\"run\"].str.split(\"_\").apply(date_or_nan)\n",
    "df[\"run_id\"] = df[\"run\"].str.extract(r\"_(\\d{4})_\")\n",
    "df\n",
    " "
   ]
  },
  {
   "cell_type": "code",
   "execution_count": null,
   "metadata": {},
   "outputs": [],
   "source": [
    "grp_col = \"run_id\"\n",
    "val_col = \"[cvMWUnloadFL].TotalIn([Ore])/1[Mt]\"\n",
    "\n",
    "box_plot = sns.boxplot(data=df, x=grp_col,y=val_col,)\n",
    "\n",
    "means = df.groupby(grp_col)[val_col].mean()\n",
    "vertical_offset = df[val_col].mean() * 0.01 # offset from median for display\n",
    "\n",
    "for xtick in box_plot.get_xticks():\n",
    "    box_plot.text(xtick,means[xtick] + vertical_offset,round(means[xtick],ndigits=1), \n",
    "            horizontalalignment='center',size='x-small',color='k',weight='semibold')\n",
    "\n",
    "plt.grid(True)"
   ]
  },
  {
   "cell_type": "code",
   "execution_count": null,
   "metadata": {},
   "outputs": [],
   "source": [
    "col = \"[cvMWUnloadFL].TotalIn([Ore])/1[Mt]\"\n",
    "df.groupby(\"run\")[col].mean().sort_values().round(decimals=1)"
   ]
  },
  {
   "cell_type": "code",
   "execution_count": null,
   "metadata": {},
   "outputs": [],
   "source": []
  }
 ],
 "metadata": {
  "kernelspec": {
   "display_name": "FMGEnv",
   "language": "python",
   "name": "python3"
  },
  "language_info": {
   "codemirror_mode": {
    "name": "ipython",
    "version": 3
   },
   "file_extension": ".py",
   "mimetype": "text/x-python",
   "name": "python",
   "nbconvert_exporter": "python",
   "pygments_lexer": "ipython3",
   "version": "3.9.13"
  }
 },
 "nbformat": 4,
 "nbformat_minor": 2
}
