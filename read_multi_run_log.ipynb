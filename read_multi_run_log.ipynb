{
 "cells": [
  {
   "cell_type": "code",
   "execution_count": null,
   "metadata": {},
   "outputs": [],
   "source": [
    "import os\n",
    "import re\n",
    "from glob import glob\n",
    "from datetime import datetime\n",
    "\n",
    "import pandas as pd"
   ]
  },
  {
   "cell_type": "code",
   "execution_count": null,
   "metadata": {},
   "outputs": [],
   "source": [
    "# fn = input()\n",
    "# print(fn.replace(\"\\\\\",\"/\"))"
   ]
  },
  {
   "cell_type": "code",
   "execution_count": null,
   "metadata": {},
   "outputs": [],
   "source": [
    "#log_fn = \"C:/JSPRuns/MultiRuns/Outputs/5019_Base_LstDlys_IncSpdMW_StpRobNoXng_ReAdjSdgSpds/2025-02-06-164911_AMMC_5019_Base_LstDlys_IncSpdMW_StpRobNoXng_ReAdjSdgSpds-exLogTrainCycles.log\"\n",
    "log_fn = \"C:/JSPRuns/2025-03-06-114718_AMMC_5101_Base_3x80ocFLTrn_FL_MW_Sidings/Outputs/5101_Base_3x80ocFLTrn_FL_MW_Sidings/5101_Base_3x80ocFLTrn_FL_MW_Sidings-exLogTrainCycles.log\"\n",
    "#log_fn = \"C:/JSPRuns/2025-03-05-153736_AMMC_5102_Base_3x80ocFLTrn_Quebec_pls2/Outputs/5102_Base_3x80ocFLTrn_Quebec_pls2/5102_Base_3x80ocFLTrn_Quebec_pls2-exLogTrainCycles.log\""
   ]
  },
  {
   "cell_type": "code",
   "execution_count": null,
   "metadata": {},
   "outputs": [],
   "source": [
    "def int_or_float_or_str(x):\n",
    "    try:\n",
    "        return int(x)\n",
    "    except ValueError:\n",
    "        try:\n",
    "            return float(x)\n",
    "        except ValueError:\n",
    "            return x\n",
    "\n",
    "with open(log_fn,\"r\") as f:\n",
    "    log_lines=[]\n",
    "    dfs=[]\n",
    "    current_repl = 0\n",
    "    for line in f:\n",
    "        if line[0] == '#':\n",
    "            print(line)\n",
    "            m = re.match(r'^.*SCENARIO\\s+(\\d+)\\s+-\\s+REPLICATION\\s+(\\d+).*',line)\n",
    "            if m:\n",
    "                scenario, repl = m.groups()\n",
    "            if len(log_lines) > 0:\n",
    "                df = pd.DataFrame(log_lines[1:],columns=log_lines[0])\n",
    "                df[\"Scenario\"] = int(scenario)\n",
    "                df[\"Run\"] = int(current_repl)\n",
    "                dfs.append(df)\n",
    "            current_repl += 1\n",
    "            log_lines=[]\n",
    "\n",
    "\n",
    "        else:\n",
    "            els = line.strip('\\n').split('\\t')\n",
    "            if len(els) > 1:\n",
    "                log_lines.append([int_or_float_or_str(x) for x in els])\n",
    "    if len(log_lines) > 0:\n",
    "        df = pd.DataFrame(log_lines[1:],columns=log_lines[0])\n",
    "        df[\"Scenario\"] = int(scenario)\n",
    "        df[\"Run\"] = int(current_repl)\n",
    "        dfs.append(df)\n",
    "\n",
    "df = pd.concat(dfs[1:])"
   ]
  },
  {
   "cell_type": "code",
   "execution_count": null,
   "metadata": {},
   "outputs": [],
   "source": [
    "val_col = \"this.SimTime/1[h]\"\n",
    "grp_col = \"Run\"\n",
    "df.groupby(grp_col)[val_col].max()"
   ]
  },
  {
   "cell_type": "code",
   "execution_count": null,
   "metadata": {},
   "outputs": [],
   "source": []
  }
 ],
 "metadata": {
  "kernelspec": {
   "display_name": "FMGEnv",
   "language": "python",
   "name": "python3"
  },
  "language_info": {
   "codemirror_mode": {
    "name": "ipython",
    "version": 3
   },
   "file_extension": ".py",
   "mimetype": "text/x-python",
   "name": "python",
   "nbconvert_exporter": "python",
   "pygments_lexer": "ipython3",
   "version": "3.9.13"
  }
 },
 "nbformat": 4,
 "nbformat_minor": 2
}
